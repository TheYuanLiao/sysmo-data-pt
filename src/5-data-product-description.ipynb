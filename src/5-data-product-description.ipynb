{
 "cells": [
  {
   "cell_type": "markdown",
   "source": [
    "# Describe data products\n",
    "1. Synthetic population attributes\n",
    "2. Activity plans\n",
    "3. Agents' moving trajectories\n",
    "4. Road network"
   ],
   "metadata": {
    "collapsed": false
   },
   "id": "33289ba7efb06edf"
  },
  {
   "cell_type": "code",
   "execution_count": 1,
   "outputs": [
    {
     "name": "stdout",
     "output_type": "stream",
     "text": [
      "D:\\sysmo-data-pt\n"
     ]
    }
   ],
   "source": [
    "%load_ext autoreload\n",
    "%autoreload 2\n",
    "%cd D:\\sysmo-data-pt\n",
    "%matplotlib inline"
   ],
   "metadata": {
    "collapsed": false,
    "ExecuteTime": {
     "end_time": "2024-06-14T07:15:46.112011700Z",
     "start_time": "2024-06-14T07:15:44.610940Z"
    }
   },
   "id": "3bcc246d7e742710"
  },
  {
   "cell_type": "code",
   "execution_count": 2,
   "outputs": [],
   "source": [
    "from tqdm.notebook import tqdm\n",
    "import pandas as pd\n",
    "import pickle\n",
    "import os\n",
    "os.environ['USE_PYGEOS'] = '0'\n",
    "import geopandas as gpd"
   ],
   "metadata": {
    "collapsed": false,
    "ExecuteTime": {
     "end_time": "2024-06-14T07:15:48.017893200Z",
     "start_time": "2024-06-14T07:15:46.112011700Z"
    }
   },
   "id": "8b529eb69a00f281"
  },
  {
   "cell_type": "markdown",
   "source": [
    "## 1. Synthetic agents"
   ],
   "metadata": {
    "collapsed": false
   },
   "id": "f80a0a99d4b387e6"
  },
  {
   "cell_type": "code",
   "execution_count": 3,
   "outputs": [
    {
     "name": "stdout",
     "output_type": "stream",
     "text": [
      "   PId       Deso kommun marital  sex  age  HId  HHtype  HHsize  num_babies  \\\n",
      "0    1  0115A0040   0115  couple    1   22    1  couple       2           0   \n",
      "1    2  0115A0040   0115  couple    0   20    1  couple       2           0   \n",
      "2    3  0115A0040   0115  couple    0   21    2  couple       2           0   \n",
      "3    4  0115A0040   0115  couple    1   20    2  couple       2           0   \n",
      "4    5  0115A0040   0115  couple    0   21    3  couple       2           0   \n",
      "\n",
      "   employment  studenthood  income_class  num_cars  HHcars  feasibility  \n",
      "0           1            0             1         0       0          1.0  \n",
      "1           0            1             0         0       0          1.0  \n",
      "2           1            1             2         1       2          0.0  \n",
      "3           1            0             4         1       2          0.0  \n",
      "4           1            0             2         1       1          1.0  \n"
     ]
    }
   ],
   "source": [
    "df_pop = pd.read_parquet('dbs/product/syn_pop_all.parquet')\n",
    "print(df_pop.head())"
   ],
   "metadata": {
    "collapsed": false,
    "ExecuteTime": {
     "end_time": "2024-06-14T07:16:51.880592100Z",
     "start_time": "2024-06-14T07:16:47.577085700Z"
    }
   },
   "id": "5899c85085dfa981"
  },
  {
   "cell_type": "code",
   "execution_count": 4,
   "outputs": [
    {
     "data": {
      "text/plain": "feasibility\n0.0    3452181\n1.0    6751639\ndtype: int64"
     },
     "execution_count": 4,
     "metadata": {},
     "output_type": "execute_result"
    }
   ],
   "source": [
    "df_pop.groupby('feasibility').size()"
   ],
   "metadata": {
    "collapsed": false,
    "ExecuteTime": {
     "end_time": "2024-06-14T07:17:03.218461500Z",
     "start_time": "2024-06-14T07:17:02.874719100Z"
    }
   },
   "id": "1ed50f2c70f5d08d"
  },
  {
   "cell_type": "markdown",
   "source": [
    "## 2. Activity plans"
   ],
   "metadata": {
    "collapsed": false
   },
   "id": "ef9579ec98a3a32a"
  },
  {
   "cell_type": "code",
   "execution_count": 5,
   "outputs": [
    {
     "name": "stdout",
     "output_type": "stream",
     "text": [
      "  act_purpose      PId   act_end  act_id  mode      POINT_X       POINT_Y  \\\n",
      "0        home  1000000   6:57:50       0  None  536867.6555  6.482252e+06   \n",
      "1       other  1000000   7:56:27       1  walk  538150.2498  6.481642e+06   \n",
      "2        home  1000000  11:03:11       2  walk  536867.6555  6.482252e+06   \n",
      "3       other  1000000  11:22:25       3  bike  537678.3112  6.481558e+06   \n",
      "4        home  1000000  23:59:58       4  bike  536867.6555  6.482252e+06   \n",
      "\n",
      "   dep_time      score trav_time  trav_time_min    act_time  distance  \\\n",
      "0   0:00:00  64.802988  00:00:00       0.000000  417.850000  0.000000   \n",
      "1   6:57:50  64.802988  00:36:55      36.916667   21.700000  1.846234   \n",
      "2   7:56:27  64.802988  00:36:55      36.916667  149.800000  1.846234   \n",
      "3  11:03:11  64.802988  00:05:32       5.533333   13.700000  1.387014   \n",
      "4  11:22:25  64.802988  00:05:32       5.533333  752.033333  1.387014   \n",
      "\n",
      "       speed  \n",
      "0        NaN  \n",
      "1   3.000651  \n",
      "2   3.000651  \n",
      "3  15.039906  \n",
      "4  15.039906  \n"
     ]
    }
   ],
   "source": [
    "df_plans = pd.read_parquet('dbs/product/plans_0.parquet')\n",
    "print(df_plans.head())"
   ],
   "metadata": {
    "collapsed": false,
    "ExecuteTime": {
     "end_time": "2024-06-14T07:18:31.109077Z",
     "start_time": "2024-06-14T07:18:28.328252300Z"
    }
   },
   "id": "f5b413e959e46f4c"
  },
  {
   "cell_type": "markdown",
   "source": [
    "## 3. Agents' moving trajectories"
   ],
   "metadata": {
    "collapsed": false
   },
   "id": "34c9a526c11a3c11"
  },
  {
   "cell_type": "code",
   "execution_count": 6,
   "outputs": [
    {
     "name": "stdout",
     "output_type": "stream",
     "text": [
      "   time                 type   person     link actType  vehicle\n",
      "0   0.0               actend  9998034   848447   other     None\n",
      "1   0.0  PersonEntersVehicle  9998034     None    None  9998034\n",
      "2   0.0               actend  9995643  1291854   other     None\n",
      "3   0.0               actend  9995107  2118867   other     None\n",
      "4   0.0               actend  9988946   614897   other     None\n"
     ]
    }
   ],
   "source": [
    "df_traj = pd.read_parquet('dbs/product/events_0.parquet')\n",
    "print(df_traj.head())"
   ],
   "metadata": {
    "collapsed": false,
    "ExecuteTime": {
     "end_time": "2024-06-14T07:20:22.364213600Z",
     "start_time": "2024-06-14T07:19:09.224480Z"
    }
   },
   "id": "ab070c7dcc712e0e"
  },
  {
   "cell_type": "markdown",
   "source": [
    "## 4. Road network \n",
    "With geometry corresponding to 'link' column in the trajectories."
   ],
   "metadata": {
    "collapsed": false
   },
   "id": "5069b90447b21fe3"
  },
  {
   "cell_type": "code",
   "execution_count": null,
   "outputs": [],
   "source": [
    "gdf_network = gpd.read_file('dbs/product/network.shp')\n",
    "print(gdf_network.head())"
   ],
   "metadata": {
    "collapsed": false,
    "is_executing": true,
    "ExecuteTime": {
     "start_time": "2024-02-06T19:35:38.392539800Z"
    }
   },
   "id": "2ea6c87d89340984"
  },
  {
   "cell_type": "code",
   "execution_count": null,
   "outputs": [],
   "source": [],
   "metadata": {
    "collapsed": false
   },
   "id": "4b9c827a82f38e66"
  }
 ],
 "metadata": {
  "kernelspec": {
   "display_name": "Python 3",
   "language": "python",
   "name": "python3"
  },
  "language_info": {
   "codemirror_mode": {
    "name": "ipython",
    "version": 2
   },
   "file_extension": ".py",
   "mimetype": "text/x-python",
   "name": "python",
   "nbconvert_exporter": "python",
   "pygments_lexer": "ipython2",
   "version": "2.7.6"
  }
 },
 "nbformat": 4,
 "nbformat_minor": 5
}
