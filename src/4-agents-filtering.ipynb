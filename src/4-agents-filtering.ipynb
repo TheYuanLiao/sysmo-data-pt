{
 "cells": [
  {
   "cell_type": "markdown",
   "source": [
    "# Agents filtering\n",
    "1. Travel time > 0\n",
    "2. Walking speed < 10 km/h\n",
    "3. Utility score by MATSim simulation > 0\n",
    "4. Activity time > 0"
   ],
   "metadata": {
    "collapsed": false
   },
   "id": "c75af1b2492b9f45"
  },
  {
   "cell_type": "code",
   "execution_count": 1,
   "outputs": [
    {
     "name": "stdout",
     "output_type": "stream",
     "text": [
      "D:\\sysmo-data-pt\n"
     ]
    }
   ],
   "source": [
    "%load_ext autoreload\n",
    "%autoreload 2\n",
    "%cd D:\\sysmo-data-pt\n",
    "%matplotlib inline"
   ],
   "metadata": {
    "collapsed": false,
    "ExecuteTime": {
     "end_time": "2024-06-13T10:00:40.061980600Z",
     "start_time": "2024-06-13T10:00:39.118912600Z"
    }
   },
   "id": "initial_id"
  },
  {
   "cell_type": "code",
   "execution_count": 2,
   "outputs": [],
   "source": [
    "import pandas as pd\n",
    "import os\n",
    "os.environ['USE_PYGEOS'] = '0'\n",
    "from tqdm import tqdm\n",
    "import matsim"
   ],
   "metadata": {
    "collapsed": false,
    "ExecuteTime": {
     "end_time": "2024-06-13T10:00:40.845776Z",
     "start_time": "2024-06-13T10:00:40.062981Z"
    }
   },
   "id": "c8977511b439d9a2"
  },
  {
   "cell_type": "markdown",
   "source": [
    "## 1. Process plans to get infeasible agents"
   ],
   "metadata": {
    "collapsed": false
   },
   "id": "b75dab9afbe8a4a4"
  },
  {
   "cell_type": "code",
   "execution_count": 36,
   "outputs": [],
   "source": [
    "def process_plans(df=None):\n",
    "    df_r_h = df.loc[(df['act_id'] == 0) & (df['src']=='input'), :]\n",
    "    home_dict = dict(zip(df_r_h.PId, \n",
    "                         list(df_r_h[['POINT_X', 'POINT_Y']].itertuples(index=False, name=None))))\n",
    "    df = df.loc[df['src'] == 'output', :]\n",
    "    df.loc[:, 'POINT_X'] = df.apply(lambda row: home_dict[row['PId']][0] if row['act_id'] == 0 else row['POINT_X'],\n",
    "                                        axis=1)\n",
    "    df.loc[:, 'POINT_Y'] = df.apply(lambda row: home_dict[row['PId']][1] if row['act_id'] == 0 else row['POINT_Y'],\n",
    "                                        axis=1)\n",
    "    return df.drop(columns=['src'])"
   ],
   "metadata": {
    "collapsed": false,
    "ExecuteTime": {
     "end_time": "2024-06-13T08:13:38.824379900Z",
     "start_time": "2024-06-13T08:13:38.699739800Z"
    }
   },
   "id": "c93c1eace7ee71ac"
  },
  {
   "cell_type": "code",
   "execution_count": 37,
   "outputs": [
    {
     "name": "stderr",
     "output_type": "stream",
     "text": [
      "Process plans: 100%|██████████| 10/10 [23:55<00:00, 143.50s/it]\n"
     ]
    }
   ],
   "source": [
    "# Data location\n",
    "agents2remove = []\n",
    "total_agents_list = []\n",
    "total_agents = 0\n",
    "for batch in tqdm(range(0, 10), desc='Process plans'):\n",
    "    plans_file = f'dbs/output/plans_{batch}.csv.gz'\n",
    "    df_plans = pd.read_csv(plans_file, compression='gzip')\n",
    "    total_agents += df_plans.PId.nunique()\n",
    "    total_agents_list += list(df_plans.PId.unique())\n",
    "    df_plans = df_plans.loc[(df_plans['act_id'] != 0) & (df_plans['src'] == 'output'), :]\n",
    "    \n",
    "    # Travel time\n",
    "    agents2remove += list(df_plans.loc[df_plans['trav_time_min'] <= 0, 'PId'].unique())\n",
    "    \n",
    "    # Walking speed\n",
    "    agents2remove += list(df_plans.loc[(df_plans['speed'] >= 10) &\\\n",
    "                                       (df_plans['mode'] == 'walk'), 'PId'].unique())\n",
    "    \n",
    "    # Utility score\n",
    "    agents2remove += list(df_plans.loc[df_plans['score'] <= 0, 'PId'].unique())\n",
    "    \n",
    "    # Activity time\n",
    "    agents2remove += list(df_plans.loc[(df_plans['act_time'] <= 0) & \\\n",
    "                                       (df_plans['act_purpose'] == 'pt interaction'), 'PId'].unique())\n",
    "    \n",
    "    # Remove agents from the plans\n",
    "    agents2remove = list(set(agents2remove))\n",
    "    df_r = process_plans(pd.read_csv(plans_file, compression='gzip'))\n",
    "    df_r = df_r.loc[~df_r.PId.isin(agents2remove), :]\n",
    "    df_r.to_parquet(f'dbs/product/plans_{batch}.parquet', index=False)"
   ],
   "metadata": {
    "collapsed": false,
    "ExecuteTime": {
     "end_time": "2024-06-13T08:37:43.217863100Z",
     "start_time": "2024-06-13T08:13:48.024760Z"
    }
   },
   "id": "e12a5f9dbdd5de31"
  },
  {
   "cell_type": "code",
   "execution_count": 38,
   "outputs": [
    {
     "name": "stdout",
     "output_type": "stream",
     "text": [
      "Share of agents remained: 72.76782567552567 %\n"
     ]
    }
   ],
   "source": [
    "agents2keep = list(set(total_agents_list) - set(agents2remove))\n",
    "print(f\"Share of agents remained: {len(agents2keep) / total_agents * 100} %\")"
   ],
   "metadata": {
    "collapsed": false,
    "ExecuteTime": {
     "end_time": "2024-06-13T08:37:45.086733300Z",
     "start_time": "2024-06-13T08:37:43.217863100Z"
    }
   },
   "id": "312a39a99c8115e2"
  },
  {
   "cell_type": "code",
   "execution_count": 39,
   "outputs": [
    {
     "name": "stdout",
     "output_type": "stream",
     "text": [
      "Number of agents left: 6751639.\n"
     ]
    }
   ],
   "source": [
    "print(f'Number of agents left: {len(agents2keep)}.')"
   ],
   "metadata": {
    "collapsed": false,
    "ExecuteTime": {
     "end_time": "2024-06-13T08:37:45.180486300Z",
     "start_time": "2024-06-13T08:37:45.086733300Z"
    }
   },
   "id": "ead65b5f8c0cf9ff"
  },
  {
   "cell_type": "markdown",
   "source": [
    "## 2. Filter population"
   ],
   "metadata": {
    "collapsed": false
   },
   "id": "ac8347d213b31931"
  },
  {
   "cell_type": "code",
   "execution_count": 3,
   "outputs": [
    {
     "name": "stderr",
     "output_type": "stream",
     "text": [
      "Load agent ids: 100%|██████████| 10/10 [00:23<00:00,  2.39s/it]\n"
     ]
    }
   ],
   "source": [
    "# Get agent list\n",
    "agents2keep = []\n",
    "for batch in tqdm(range(0, 10), desc='Load agent ids'):\n",
    "    plans_file = f'dbs/product/plans_{batch}.parquet'\n",
    "    df_plans = pd.read_parquet(plans_file)\n",
    "    agents2keep += list(df_plans.PId.unique())\n",
    "    del df_plans\n",
    "agents2keep = list(set(agents2keep))"
   ],
   "metadata": {
    "collapsed": false,
    "ExecuteTime": {
     "end_time": "2024-06-13T10:01:10.457478500Z",
     "start_time": "2024-06-13T10:00:45.709704700Z"
    }
   },
   "id": "cb363c599f4b0aa9"
  },
  {
   "cell_type": "code",
   "execution_count": 4,
   "outputs": [],
   "source": [
    "df_pop = pd.read_pickle('dbs/sysmo/syn_pop_all.pkl')"
   ],
   "metadata": {
    "collapsed": false,
    "ExecuteTime": {
     "end_time": "2024-06-13T10:02:07.287918300Z",
     "start_time": "2024-06-13T10:01:10.457478500Z"
    }
   },
   "id": "bb1465dd35cf88f7"
  },
  {
   "cell_type": "code",
   "execution_count": 5,
   "outputs": [],
   "source": [
    "agents2remove = list(df_pop.loc[~df_pop.PId.isin(agents2keep), 'PId'].unique())"
   ],
   "metadata": {
    "collapsed": false,
    "ExecuteTime": {
     "end_time": "2024-06-13T10:02:09.713025900Z",
     "start_time": "2024-06-13T10:02:07.272292800Z"
    }
   },
   "id": "5cad541f7d0e9306"
  },
  {
   "cell_type": "code",
   "execution_count": 10,
   "outputs": [],
   "source": [
    "tqdm.pandas()\n",
    "df_pop.loc[df_pop.PId.isin(agents2keep), 'feasibility'] = 1\n",
    "df_pop.loc[~df_pop.PId.isin(agents2keep), 'feasibility'] = 0\n",
    "df_pop.drop(columns=['pot_car_driver'], inplace=True)\n",
    "df_pop.to_parquet('dbs/product/syn_pop_all.parquet', index=False)"
   ],
   "metadata": {
    "collapsed": false,
    "ExecuteTime": {
     "start_time": "2024-06-12T14:46:02.834857900Z"
    }
   },
   "id": "238d6449247e3ebc"
  },
  {
   "cell_type": "markdown",
   "source": [
    "## 3. Events filtering"
   ],
   "metadata": {
    "collapsed": false,
    "ExecuteTime": {
     "end_time": "2024-06-13T08:44:12.724763500Z",
     "start_time": "2024-06-13T08:44:12.562908400Z"
    }
   },
   "id": "dfe0d239ca73fa67"
  },
  {
   "cell_type": "code",
   "execution_count": 10,
   "outputs": [],
   "source": [
    "agents2keep_string = list(map(str, agents2keep))\n",
    "agents2remove_string = list(map(str, agents2remove))"
   ],
   "metadata": {
    "collapsed": false,
    "ExecuteTime": {
     "end_time": "2024-06-13T11:41:28.359221100Z",
     "start_time": "2024-06-13T11:41:26.320036100Z"
    }
   },
   "id": "23adc1bd49b5493b"
  },
  {
   "cell_type": "code",
   "execution_count": 12,
   "outputs": [
    {
     "data": {
      "text/plain": "       length  freespeed  capacity  permlanes oneway modes link_id  \\\n0  481.239929  11.111111     600.0        1.0      1   car      10   \n1   36.365222   4.166667     600.0        1.0      1   car     100   \n2   45.748284   4.166667     600.0        1.0      1   car    1000   \n3   45.066036   2.777778     300.0        1.0      1   car   10000   \n4   10.098473   6.944444     600.0        1.0      1   car  100000   \n\n    from_node     to_node                                           geometry  \n0   441557672   442330933  LINESTRING (374101.255 6258377.983, 374133.899...  \n1  6159514954  1801777826  LINESTRING (441341.551 6522798.063, 441346.658...  \n2  7098624155  5304929876  LINESTRING (455508.389 6929779.879, 455553.788...  \n3  1431711158  1431711274  LINESTRING (662344.523 6571560.838, 662335.462...  \n4  9682588781  9682001659  LINESTRING (658965.901 6635300.797, 658969.266...  ",
      "text/html": "<div>\n<style scoped>\n    .dataframe tbody tr th:only-of-type {\n        vertical-align: middle;\n    }\n\n    .dataframe tbody tr th {\n        vertical-align: top;\n    }\n\n    .dataframe thead th {\n        text-align: right;\n    }\n</style>\n<table border=\"1\" class=\"dataframe\">\n  <thead>\n    <tr style=\"text-align: right;\">\n      <th></th>\n      <th>length</th>\n      <th>freespeed</th>\n      <th>capacity</th>\n      <th>permlanes</th>\n      <th>oneway</th>\n      <th>modes</th>\n      <th>link_id</th>\n      <th>from_node</th>\n      <th>to_node</th>\n      <th>geometry</th>\n    </tr>\n  </thead>\n  <tbody>\n    <tr>\n      <th>0</th>\n      <td>481.239929</td>\n      <td>11.111111</td>\n      <td>600.0</td>\n      <td>1.0</td>\n      <td>1</td>\n      <td>car</td>\n      <td>10</td>\n      <td>441557672</td>\n      <td>442330933</td>\n      <td>LINESTRING (374101.255 6258377.983, 374133.899...</td>\n    </tr>\n    <tr>\n      <th>1</th>\n      <td>36.365222</td>\n      <td>4.166667</td>\n      <td>600.0</td>\n      <td>1.0</td>\n      <td>1</td>\n      <td>car</td>\n      <td>100</td>\n      <td>6159514954</td>\n      <td>1801777826</td>\n      <td>LINESTRING (441341.551 6522798.063, 441346.658...</td>\n    </tr>\n    <tr>\n      <th>2</th>\n      <td>45.748284</td>\n      <td>4.166667</td>\n      <td>600.0</td>\n      <td>1.0</td>\n      <td>1</td>\n      <td>car</td>\n      <td>1000</td>\n      <td>7098624155</td>\n      <td>5304929876</td>\n      <td>LINESTRING (455508.389 6929779.879, 455553.788...</td>\n    </tr>\n    <tr>\n      <th>3</th>\n      <td>45.066036</td>\n      <td>2.777778</td>\n      <td>300.0</td>\n      <td>1.0</td>\n      <td>1</td>\n      <td>car</td>\n      <td>10000</td>\n      <td>1431711158</td>\n      <td>1431711274</td>\n      <td>LINESTRING (662344.523 6571560.838, 662335.462...</td>\n    </tr>\n    <tr>\n      <th>4</th>\n      <td>10.098473</td>\n      <td>6.944444</td>\n      <td>600.0</td>\n      <td>1.0</td>\n      <td>1</td>\n      <td>car</td>\n      <td>100000</td>\n      <td>9682588781</td>\n      <td>9682001659</td>\n      <td>LINESTRING (658965.901 6635300.797, 658969.266...</td>\n    </tr>\n  </tbody>\n</table>\n</div>"
     },
     "execution_count": 12,
     "metadata": {},
     "output_type": "execute_result"
    }
   ],
   "source": [
    "# read network\n",
    "input_file = 'dbs/scenarios/sweden/output_1/output_network.xml.gz'\n",
    "net = matsim.read_network(input_file)\n",
    "geo = net.as_geo() \n",
    "link_list = list(geo.link_id.unique())\n",
    "geo.head()"
   ],
   "metadata": {
    "collapsed": false,
    "ExecuteTime": {
     "end_time": "2024-06-13T11:47:47.161453900Z",
     "start_time": "2024-06-13T11:45:45.084587100Z"
    }
   },
   "id": "8cab63614364ee29"
  },
  {
   "cell_type": "code",
   "execution_count": 15,
   "outputs": [],
   "source": [
    "geo.to_file('dbs/product/network.shp')\n",
    "del geo"
   ],
   "metadata": {
    "collapsed": false,
    "ExecuteTime": {
     "end_time": "2024-06-13T11:58:35.084969600Z",
     "start_time": "2024-06-13T11:53:37.381079900Z"
    }
   },
   "id": "a1012776d3c626b7"
  },
  {
   "cell_type": "code",
   "execution_count": 16,
   "outputs": [
    {
     "name": "stderr",
     "output_type": "stream",
     "text": [
      "Process events: 100%|██████████| 10/10 [45:22<00:00, 272.23s/it]\n"
     ]
    }
   ],
   "source": [
    "for batch in tqdm(range(0, 10), desc='Process events'):\n",
    "    events_file = f'dbs/output/events_{batch}.parquet'\n",
    "    df_events = pd.read_parquet(events_file)\n",
    "    df_events = df_events.loc[(~df_events.person.isin(agents2remove_string)) | df_events.person.isna()]\n",
    "    df_events = df_events.loc[(~df_events.vehicle.isin(agents2remove_string)) | df_events.vehicle.isna()]\n",
    "    df_events.to_parquet(f'dbs/product/events_{batch}.parquet', index=False)"
   ],
   "metadata": {
    "collapsed": false,
    "ExecuteTime": {
     "end_time": "2024-06-13T12:43:57.513251Z",
     "start_time": "2024-06-13T11:58:35.084969600Z"
    }
   },
   "id": "7907e096092cc806"
  },
  {
   "cell_type": "code",
   "execution_count": null,
   "outputs": [],
   "source": [],
   "metadata": {
    "collapsed": false
   },
   "id": "84ad03c114d4706"
  }
 ],
 "metadata": {
  "kernelspec": {
   "display_name": "Python 3",
   "language": "python",
   "name": "python3"
  },
  "language_info": {
   "codemirror_mode": {
    "name": "ipython",
    "version": 2
   },
   "file_extension": ".py",
   "mimetype": "text/x-python",
   "name": "python",
   "nbconvert_exporter": "python",
   "pygments_lexer": "ipython2",
   "version": "2.7.6"
  }
 },
 "nbformat": 4,
 "nbformat_minor": 5
}
