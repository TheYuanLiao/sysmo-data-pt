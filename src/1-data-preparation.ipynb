{
 "cells": [
  {
   "cell_type": "markdown",
   "source": [
    "# Prepare data for MATSim simulation"
   ],
   "metadata": {
    "collapsed": false
   },
   "id": "6f6bb8d00a50bfbd"
  },
  {
   "cell_type": "code",
   "execution_count": 2,
   "outputs": [
    {
     "name": "stdout",
     "output_type": "stream",
     "text": [
      "D:\\sysmo-data-pt\n"
     ]
    }
   ],
   "source": [
    "%load_ext autoreload\n",
    "%autoreload 2\n",
    "%cd D:\\sysmo-data-pt\n",
    "%matplotlib inline"
   ],
   "metadata": {
    "collapsed": false,
    "ExecuteTime": {
     "end_time": "2024-05-31T11:22:06.477322600Z",
     "start_time": "2024-05-31T11:22:05.585733400Z"
    }
   },
   "id": "initial_id"
  },
  {
   "cell_type": "code",
   "execution_count": 3,
   "outputs": [],
   "source": [
    "# Load libs\n",
    "import pandas as pd\n",
    "import os\n",
    "os.environ['USE_PYGEOS'] = '0'\n",
    "import matsim\n",
    "import gzip\n",
    "import numpy as np\n",
    "import math\n",
    "from tqdm import tqdm"
   ],
   "metadata": {
    "collapsed": false,
    "ExecuteTime": {
     "end_time": "2024-05-31T11:22:06.555082200Z",
     "start_time": "2024-05-31T11:22:06.477322600Z"
    }
   },
   "id": "2777021e2bc3ea35"
  },
  {
   "cell_type": "markdown",
   "source": [
    "## 1. Network processing using Java code\n",
    "This is done by [pt2matsim](https://github.com/matsim-org/pt2matsim)."
   ],
   "metadata": {
    "collapsed": false
   },
   "id": "3d0321d729b81255"
  },
  {
   "cell_type": "code",
   "execution_count": null,
   "outputs": [],
   "source": [
    "\"\"\"\n",
    "java -cp C:\\matsim-13.0\\pt2matsim-23.4-shaded.jar org.matsim.pt2matsim.run.CreateDefaultOsmConfig C:\\sysmo-data-pt\\dbs\\defaultConfigFile.xml\n",
    "\n",
    "java -cp C:\\matsim-13.0\\pt2matsim-23.4-shaded.jar org.matsim.pt2matsim.run.Osm2MultimodalNetwork C:\\sysmo-data-pt\\dbs\\defaultConfigFile.xml\n",
    "\n",
    "C:\\osmosis\\osmosis-0.49.2\\bin\\osmosis.bat --read-pbf file=\"C:\\sysmo-data-pt\\dbs\\geo\\sweden-latest.osm.pbf\" --bounding-polygon file=\"C:\\sysmo-data-pt\\dbs\\geo\\zones\\skane.poly\" --write-xml file=\"C:\\sysmo-data-pt\\dbs\\geo\\skane.osm\"\n",
    "\n",
    "java -cp C:\\matsim-13.0\\pt2matsim-23.4-shaded.jar org.matsim.pt2matsim.run.Gtfs2TransitSchedule \"C:\\sysmo-data-pt\\dbs\\gtfs_se\" \"20230907\" \"EPSG:3006\" \"C:\\sysmo-data-pt\\dbs\\outputTransitSchedule.xml.gz\" \"C:\\sysmo-data-pt\\dbs\\outputVehiclesFile.xml\"\n",
    "\n",
    "java -cp C:\\matsim-13.0\\pt2matsim-23.4-shaded.jar org.matsim.pt2matsim.run.CreateDefaultPTMapperConfig C:\\sysmo-data-pt\\dbs\\defaultConfigFilePTMapper.xml\n",
    "\n",
    "java -cp C:\\matsim-13.0\\pt2matsim-23.4-shaded.jar org.matsim.pt2matsim.run.PublicTransitMapper C:\\sysmo-data-pt\\dbs\\defaultConfigFilePTMapper.xml\n",
    "\n",
    "java -cp C:\\matsim-13.0\\pt2matsim-23.4-shaded.jar org.matsim.pt2matsim.run.CheckMappedSchedulePlausibility \"C:\\sysmo-data-pt\\dbs\\transitSchedule.xml.gz\" \"C:\\sysmo-data-pt\\dbs\\network.xml.gz\" \"EPSG:3006\" \"C:\\sysmo-data-pt\\dbs\\gtfs_se\\plausibility\" \n",
    "\"\"\""
   ],
   "metadata": {
    "collapsed": false
   },
   "id": "9b33b178d2a66b18"
  },
  {
   "cell_type": "markdown",
   "source": [
    "## 2. Prepare agents"
   ],
   "metadata": {
    "collapsed": false
   },
   "id": "dfbc3c4e3dbb72e0"
  },
  {
   "cell_type": "code",
   "execution_count": 10,
   "outputs": [],
   "source": [
    "# h-Home, w-Work, o-Other, s-School\n",
    "activity_purpose_dict = {1: 'home', 4: 'work', 10: 'other', 6: 'school'}\n",
    "mode_dict = {'Car': 'car', 'CarPassenger': 'car', 'Bike': 'bike',\n",
    "             'Walking': 'walk', 'PublicTransport': 'pt'}"
   ],
   "metadata": {
    "collapsed": false,
    "ExecuteTime": {
     "end_time": "2024-05-31T11:24:02.606728300Z",
     "start_time": "2024-05-31T11:24:02.513363500Z"
    }
   },
   "id": "f128b51f2936483f"
  },
  {
   "cell_type": "code",
   "execution_count": 4,
   "outputs": [],
   "source": [
    "df_pop = pd.read_pickle('dbs/sysmo/syn_pop_all.pkl')\n",
    "df_plan = pd.read_pickle('dbs/sysmo/df_act_plan.pkl')\n",
    "df_plan['act_purpose'] = df_plan['act_purpose'].map(activity_purpose_dict)"
   ],
   "metadata": {
    "collapsed": false,
    "ExecuteTime": {
     "end_time": "2024-05-31T08:41:10.843390900Z",
     "start_time": "2024-05-31T08:35:54.459410900Z"
    }
   },
   "id": "889b89fec83263bc"
  },
  {
   "cell_type": "markdown",
   "source": [
    "### 3.1 Prepare non-car agents\n",
    "This is to get those agents who exclusively use transit or other active modes.\n",
    "The agents who have any car trips in combination with the other modes have been simulated in the other project."
   ],
   "metadata": {
    "collapsed": false
   },
   "id": "898e0e11f3be2889"
  },
  {
   "cell_type": "code",
   "execution_count": 9,
   "outputs": [
    {
     "data": {
      "text/plain": "4215776"
     },
     "execution_count": 9,
     "metadata": {},
     "output_type": "execute_result"
    }
   ],
   "source": [
    "# Agents who use pt and other modes\n",
    "agents_non_car_users = df_plan.loc[df_plan['mode'].isin(['Bike', 'Walking', 'PublicTransport']), 'PId'].unique()\n",
    "\n",
    "# Agents who use car\n",
    "agents_car_users = df_plan.loc[df_plan['mode'].isin(['Car', 'CarPassenger']), 'PId'].unique()\n",
    "\n",
    "# Agents who use all modes\n",
    "intersection = np.intersect1d(agents_non_car_users, agents_car_users)\n",
    "\n",
    "# Agents who exclusively use pt and other modes (target for further simulation)\n",
    "agents_non_car_users = np.setdiff1d(agents_non_car_users, intersection)\n",
    "len(agents_non_car_users)"
   ],
   "metadata": {
    "collapsed": false,
    "ExecuteTime": {
     "end_time": "2024-04-05T07:16:19.931145Z",
     "start_time": "2024-04-05T07:16:15.379324500Z"
    }
   },
   "id": "73e9cd45427194b3"
  },
  {
   "cell_type": "code",
   "outputs": [],
   "source": [
    "df_plan = df_plan.loc[df_plan.PId.isin(agents_non_car_users), :]"
   ],
   "metadata": {
    "collapsed": false,
    "ExecuteTime": {
     "end_time": "2024-04-05T07:16:23.976067600Z",
     "start_time": "2024-04-05T07:16:19.915871Z"
    }
   },
   "id": "638807a93bcb05f8",
   "execution_count": 10
  },
  {
   "cell_type": "markdown",
   "source": [
    "## 3. Generate all agents' plans\n",
    "The agents are divided into 9 batches."
   ],
   "metadata": {
    "collapsed": false
   },
   "id": "ccd90d10a3f19b8"
  },
  {
   "cell_type": "code",
   "execution_count": 4,
   "outputs": [],
   "source": [
    "def data2xml(data):\n",
    "    num_activities = len(data)\n",
    "    # Modes between activities\n",
    "    mode_array = data['mode'].values[1:]\n",
    "    act_purpose_array = data['act_purpose'].values\n",
    "    X_array = data['POINT_X_sweref99'].values\n",
    "    Y_array = data['POINT_Y_sweref99'].values\n",
    "    act_end_array = data['act_end'].values\n",
    "    # Process the case where the last activity crosses 0\n",
    "    if act_end_array[-2] < 3:\n",
    "        act_purpose_array = np.concatenate((act_purpose_array[-2], act_purpose_array[:-1]), axis=None)\n",
    "        X_array = np.concatenate((X_array[-2], X_array[:-1]), axis=None)\n",
    "        Y_array = np.concatenate((Y_array[-2], Y_array[:-1]), axis=None)\n",
    "        act_end_array = np.concatenate((act_end_array[-2], act_end_array[:-1]), axis=None)\n",
    "        act_end_array[-1] = 23.99\n",
    "    # Excluding those who 1) do not move (stay home),\n",
    "    # 2) start and end locations are not the same\n",
    "    if (num_activities > 2) & (act_purpose_array[0] == act_purpose_array[-1]):\n",
    "        writer.start_person(person_id=data['PId'].values[0])\n",
    "        writer.start_plan(selected=True)\n",
    "        for i in range(num_activities):\n",
    "            # The last activity is always home\n",
    "            if i == num_activities - 1:\n",
    "                writer.add_activity(type=act_purpose_array[i],\n",
    "                                    x=X_array[i],\n",
    "                                    y=Y_array[i])\n",
    "            else:\n",
    "                writer.add_activity(type=act_purpose_array[i],\n",
    "                        x=X_array[i],\n",
    "                        y=Y_array[i],\n",
    "                        end_time=act_end_array[i]*3600)\n",
    "                writer.add_leg(mode=mode_dict[mode_array[i]])\n",
    "        writer.end_plan()\n",
    "        writer.end_person()"
   ],
   "metadata": {
    "collapsed": false,
    "ExecuteTime": {
     "end_time": "2024-05-31T11:22:13.110895800Z",
     "start_time": "2024-05-31T11:22:13.044602200Z"
    }
   },
   "id": "c74c74ba4c1a0323"
  },
  {
   "cell_type": "code",
   "execution_count": 6,
   "outputs": [],
   "source": [
    "batch_num = 10\n",
    "np.random.seed(68)\n",
    "grps_dict = dict(zip(df_plan['PId'].unique(), np.random.randint(0, batch_num, size=df_plan['PId'].nunique())))\n",
    "df_plan.loc[:, 'batch'] = df_plan['PId'].map(grps_dict)"
   ],
   "metadata": {
    "collapsed": false,
    "ExecuteTime": {
     "end_time": "2024-05-31T08:42:20.682883300Z",
     "start_time": "2024-05-31T08:41:10.999284400Z"
    }
   },
   "id": "8535c833aca46bc4"
  },
  {
   "cell_type": "code",
   "execution_count": 8,
   "outputs": [
    {
     "name": "stderr",
     "output_type": "stream",
     "text": [
      "100%|██████████| 1021429/1021429 [05:53<00:00, 2889.27it/s]\n",
      "100%|██████████| 1019802/1019802 [06:11<00:00, 2746.89it/s]\n",
      "100%|██████████| 1020271/1020271 [06:13<00:00, 2731.74it/s]\n",
      "100%|██████████| 1023139/1023139 [06:11<00:00, 2756.35it/s]\n",
      "100%|██████████| 1020179/1020179 [06:09<00:00, 2757.39it/s]\n",
      "100%|██████████| 1018978/1018978 [06:10<00:00, 2753.43it/s]\n",
      "100%|██████████| 1020004/1020004 [06:11<00:00, 2743.94it/s]\n",
      "100%|██████████| 1019632/1019632 [06:08<00:00, 2763.59it/s]\n",
      "100%|██████████| 1020353/1020353 [06:11<00:00, 2744.53it/s]\n",
      "100%|██████████| 1020033/1020033 [06:12<00:00, 2736.07it/s]\n"
     ]
    }
   ],
   "source": [
    "for batch in range(0, batch_num):\n",
    "    with gzip.open(f\"dbs/scenarios/sweden/plans_{batch}.xml.gz\", 'wb+') as f_write:\n",
    "        writer = matsim.writers.PopulationWriter(f_write)\n",
    "        writer.start_population()\n",
    "        tqdm.pandas()\n",
    "        df_plan.loc[df_plan.batch == batch, :].groupby('PId').progress_apply(data2xml)\n",
    "        writer.end_population()"
   ],
   "metadata": {
    "collapsed": false,
    "ExecuteTime": {
     "end_time": "2024-04-26T09:05:20.606148200Z",
     "start_time": "2024-04-26T08:03:29.970658800Z"
    }
   },
   "id": "8e0b13e3866c2c45"
  },
  {
   "cell_type": "markdown",
   "source": [
    "## 4. Check batch 6\n",
    "[Guice/ErrorInCustomProvider]: IllegalArgumentException: There exists already a node with id = 10000027567.\n",
    "Existing node: [id=10000027567][coord=[x=670886.9942285293 | y=6585346.708522646]][type=null][nof_inlinks=2][nof_outlinks=2]\n",
    "Node to be added: [id=10000027567][coord=[x=670886.9942285293 | y=6585346.708522646]][type=null][nof_inlinks=0][nof_outlinks=0].\n",
    "Node is not added to the network."
   ],
   "metadata": {
    "collapsed": false
   },
   "id": "45364965934b00b"
  },
  {
   "cell_type": "code",
   "execution_count": 7,
   "outputs": [
    {
     "data": {
      "text/plain": "    PId  act_id joint_PId_actid act_purpose  act_start    act_end     mode  \\\n30    8       0             8;0        home   3.000000   6.669886            \n31    8       1             8;1        work   7.806994  15.163802  Walking   \n32    8       2             8;2        home  16.300911  17.187140  Walking   \n33    8       3             8;3       other  18.324248  21.853972      Car   \n34    8       4             8;4        home  22.991081   3.000000      Car   \n\n    building_ID  building_type       Deso Reg_model  New_Zone_ID  \\\n30      4168782            130  0115A0040      Samm      3711514   \n31      4175112            699  0115A0040      Samm      3711514   \n32      4168782            130  0115A0040      Samm      3711514   \n33      5268978            699  1980C1350      Samm      3898002   \n34      4168782            130  0115A0040      Samm      3711514   \n\n    POINT_X_sweref99  POINT_Y_sweref99    POINT_X    POINT_Y  batch  \n30       682961.2147      6.615291e+06  18.245410  59.635495      6  \n31       679308.0771      6.617570e+06  18.182664  59.657514      6  \n32       682961.2147      6.615291e+06  18.245410  59.635495      6  \n33       586943.3729      6.609584e+06  16.540987  59.615351      6  \n34       682961.2147      6.615291e+06  18.245410  59.635495      6  ",
      "text/html": "<div>\n<style scoped>\n    .dataframe tbody tr th:only-of-type {\n        vertical-align: middle;\n    }\n\n    .dataframe tbody tr th {\n        vertical-align: top;\n    }\n\n    .dataframe thead th {\n        text-align: right;\n    }\n</style>\n<table border=\"1\" class=\"dataframe\">\n  <thead>\n    <tr style=\"text-align: right;\">\n      <th></th>\n      <th>PId</th>\n      <th>act_id</th>\n      <th>joint_PId_actid</th>\n      <th>act_purpose</th>\n      <th>act_start</th>\n      <th>act_end</th>\n      <th>mode</th>\n      <th>building_ID</th>\n      <th>building_type</th>\n      <th>Deso</th>\n      <th>Reg_model</th>\n      <th>New_Zone_ID</th>\n      <th>POINT_X_sweref99</th>\n      <th>POINT_Y_sweref99</th>\n      <th>POINT_X</th>\n      <th>POINT_Y</th>\n      <th>batch</th>\n    </tr>\n  </thead>\n  <tbody>\n    <tr>\n      <th>30</th>\n      <td>8</td>\n      <td>0</td>\n      <td>8;0</td>\n      <td>home</td>\n      <td>3.000000</td>\n      <td>6.669886</td>\n      <td></td>\n      <td>4168782</td>\n      <td>130</td>\n      <td>0115A0040</td>\n      <td>Samm</td>\n      <td>3711514</td>\n      <td>682961.2147</td>\n      <td>6.615291e+06</td>\n      <td>18.245410</td>\n      <td>59.635495</td>\n      <td>6</td>\n    </tr>\n    <tr>\n      <th>31</th>\n      <td>8</td>\n      <td>1</td>\n      <td>8;1</td>\n      <td>work</td>\n      <td>7.806994</td>\n      <td>15.163802</td>\n      <td>Walking</td>\n      <td>4175112</td>\n      <td>699</td>\n      <td>0115A0040</td>\n      <td>Samm</td>\n      <td>3711514</td>\n      <td>679308.0771</td>\n      <td>6.617570e+06</td>\n      <td>18.182664</td>\n      <td>59.657514</td>\n      <td>6</td>\n    </tr>\n    <tr>\n      <th>32</th>\n      <td>8</td>\n      <td>2</td>\n      <td>8;2</td>\n      <td>home</td>\n      <td>16.300911</td>\n      <td>17.187140</td>\n      <td>Walking</td>\n      <td>4168782</td>\n      <td>130</td>\n      <td>0115A0040</td>\n      <td>Samm</td>\n      <td>3711514</td>\n      <td>682961.2147</td>\n      <td>6.615291e+06</td>\n      <td>18.245410</td>\n      <td>59.635495</td>\n      <td>6</td>\n    </tr>\n    <tr>\n      <th>33</th>\n      <td>8</td>\n      <td>3</td>\n      <td>8;3</td>\n      <td>other</td>\n      <td>18.324248</td>\n      <td>21.853972</td>\n      <td>Car</td>\n      <td>5268978</td>\n      <td>699</td>\n      <td>1980C1350</td>\n      <td>Samm</td>\n      <td>3898002</td>\n      <td>586943.3729</td>\n      <td>6.609584e+06</td>\n      <td>16.540987</td>\n      <td>59.615351</td>\n      <td>6</td>\n    </tr>\n    <tr>\n      <th>34</th>\n      <td>8</td>\n      <td>4</td>\n      <td>8;4</td>\n      <td>home</td>\n      <td>22.991081</td>\n      <td>3.000000</td>\n      <td>Car</td>\n      <td>4168782</td>\n      <td>130</td>\n      <td>0115A0040</td>\n      <td>Samm</td>\n      <td>3711514</td>\n      <td>682961.2147</td>\n      <td>6.615291e+06</td>\n      <td>18.245410</td>\n      <td>59.635495</td>\n      <td>6</td>\n    </tr>\n  </tbody>\n</table>\n</div>"
     },
     "execution_count": 7,
     "metadata": {},
     "output_type": "execute_result"
    }
   ],
   "source": [
    "df6 = df_plan.loc[df_plan.batch == 6, :].copy()\n",
    "df6.head()"
   ],
   "metadata": {
    "collapsed": false,
    "ExecuteTime": {
     "end_time": "2024-05-31T08:42:23.218412500Z",
     "start_time": "2024-05-31T08:42:20.682883300Z"
    }
   },
   "id": "e1a6304168fb25d0"
  },
  {
   "cell_type": "markdown",
   "source": [
    "### 4.1 Find the agents near the node with error\n",
    "It is a node in the network near Solna train station."
   ],
   "metadata": {
    "collapsed": false
   },
   "id": "99f821be00578d58"
  },
  {
   "cell_type": "code",
   "execution_count": 13,
   "outputs": [
    {
     "name": "stderr",
     "output_type": "stream",
     "text": [
      "100%|██████████| 4168512/4168512 [01:19<00:00, 52110.87it/s]\n"
     ]
    }
   ],
   "source": [
    "x1, y1 = 670886.9942285293, 6585346.708522646\n",
    "def euc_d(row):\n",
    "    return math.sqrt((row['POINT_X_sweref99'] - x1) ** 2 + (row['POINT_Y_sweref99'] - y1) ** 2)\n",
    "\n",
    "tqdm.pandas()\n",
    "df6.loc[:, 'd'] = df6.progress_apply(lambda row: euc_d(row), axis=1)"
   ],
   "metadata": {
    "collapsed": false,
    "ExecuteTime": {
     "end_time": "2024-05-31T09:00:34.480067600Z",
     "start_time": "2024-05-31T08:59:14.330327Z"
    }
   },
   "id": "803044d8d8aa19f4"
  },
  {
   "cell_type": "code",
   "execution_count": 28,
   "outputs": [],
   "source": [
    "df6 = df6.sort_values(by='d', ascending=True)\n",
    "df6.to_parquet('dbs/scenarios/plans_6.parquet', index=False)"
   ],
   "metadata": {
    "collapsed": false,
    "ExecuteTime": {
     "end_time": "2024-05-31T09:19:56.806608700Z",
     "start_time": "2024-05-31T09:19:55.989625400Z"
    }
   },
   "id": "e58da328fa43a521"
  },
  {
   "cell_type": "markdown",
   "source": [
    "### 4.2 Check distance threshold"
   ],
   "metadata": {
    "collapsed": false
   },
   "id": "131d53a8ea33708a"
  },
  {
   "cell_type": "code",
   "execution_count": 5,
   "outputs": [],
   "source": [
    "df6 = pd.read_parquet('dbs/scenarios/plans_6.parquet')"
   ],
   "metadata": {
    "collapsed": false,
    "ExecuteTime": {
     "start_time": "2024-05-31T11:22:21.427899Z"
    }
   },
   "id": "e83ec3b622a5ef00"
  },
  {
   "cell_type": "code",
   "execution_count": 6,
   "outputs": [
    {
     "data": {
      "text/plain": "1"
     },
     "execution_count": 6,
     "metadata": {},
     "output_type": "execute_result"
    }
   ],
   "source": [
    "df6.loc[df6['d'] <= 100, 'PId'].nunique()"
   ],
   "metadata": {
    "collapsed": false,
    "ExecuteTime": {
     "end_time": "2024-05-31T11:22:46.248946400Z",
     "start_time": "2024-05-31T11:22:46.139948500Z"
    }
   },
   "id": "cd5daf5651278fdc"
  },
  {
   "cell_type": "code",
   "execution_count": 21,
   "outputs": [
    {
     "data": {
      "text/plain": "            POINT_X    POINT_Y\n13643353  18.008811  59.372342",
      "text/html": "<div>\n<style scoped>\n    .dataframe tbody tr th:only-of-type {\n        vertical-align: middle;\n    }\n\n    .dataframe tbody tr th {\n        vertical-align: top;\n    }\n\n    .dataframe thead th {\n        text-align: right;\n    }\n</style>\n<table border=\"1\" class=\"dataframe\">\n  <thead>\n    <tr style=\"text-align: right;\">\n      <th></th>\n      <th>POINT_X</th>\n      <th>POINT_Y</th>\n    </tr>\n  </thead>\n  <tbody>\n    <tr>\n      <th>13643353</th>\n      <td>18.008811</td>\n      <td>59.372342</td>\n    </tr>\n  </tbody>\n</table>\n</div>"
     },
     "execution_count": 21,
     "metadata": {},
     "output_type": "execute_result"
    }
   ],
   "source": [
    "df6.loc[df6['d'] <= 100, ['POINT_X', 'POINT_Y']]"
   ],
   "metadata": {
    "collapsed": false,
    "ExecuteTime": {
     "end_time": "2024-05-31T09:08:36.494956800Z",
     "start_time": "2024-05-31T09:08:36.385426800Z"
    }
   },
   "id": "ed77cac3ba5521b5"
  },
  {
   "cell_type": "code",
   "execution_count": 12,
   "outputs": [],
   "source": [
    "batch = 6\n",
    "d_threshold = 500\n",
    "to_keep = list(df6.loc[df6['d'] < d_threshold, 'PId'].unique())"
   ],
   "metadata": {
    "collapsed": false,
    "ExecuteTime": {
     "end_time": "2024-05-31T11:36:27.684335400Z",
     "start_time": "2024-05-31T11:36:27.554835600Z"
    }
   },
   "id": "6cb840fce20c4374"
  },
  {
   "cell_type": "code",
   "execution_count": 13,
   "outputs": [
    {
     "name": "stderr",
     "output_type": "stream",
     "text": [
      "100%|██████████| 1000/1000 [00:00<00:00, 2666.67it/s]\n"
     ]
    }
   ],
   "source": [
    "with gzip.open(f\"dbs/scenarios/sweden/plans_{batch}_t.xml.gz\", 'wb+') as f_write:\n",
    "    writer = matsim.writers.PopulationWriter(f_write)\n",
    "    writer.start_population()\n",
    "    tqdm.pandas()\n",
    "    df6.loc[df6.PId.isin(to_keep[:1000]), :].\\\n",
    "        sort_values(by=['PId', 'act_id'], ascending=True).\\\n",
    "        groupby('PId').progress_apply(data2xml)\n",
    "    writer.end_population()"
   ],
   "metadata": {
    "collapsed": false,
    "ExecuteTime": {
     "end_time": "2024-05-31T11:36:30.293948800Z",
     "start_time": "2024-05-31T11:36:29.761481400Z"
    }
   },
   "id": "cc8e7f4bb6c70835"
  }
 ],
 "metadata": {
  "kernelspec": {
   "display_name": "Python 3",
   "language": "python",
   "name": "python3"
  },
  "language_info": {
   "codemirror_mode": {
    "name": "ipython",
    "version": 2
   },
   "file_extension": ".py",
   "mimetype": "text/x-python",
   "name": "python",
   "nbconvert_exporter": "python",
   "pygments_lexer": "ipython2",
   "version": "2.7.6"
  }
 },
 "nbformat": 4,
 "nbformat_minor": 5
}
